{
  "nbformat": 4,
  "nbformat_minor": 0,
  "metadata": {
    "colab": {
      "name": "MatrixDay5.ipynb",
      "provenance": [],
      "collapsed_sections": [],
      "mount_file_id": "1kgrm6Lys_qFuu-1Cy97DYhbjDlgE4h2E",
      "authorship_tag": "ABX9TyM9QPZcdPqc1z/HUtVZOCuq",
      "include_colab_link": true
    },
    "kernelspec": {
      "name": "python3",
      "display_name": "Python 3"
    },
    "widgets": {
      "application/vnd.jupyter.widget-state+json": {
        "316e426665ac4e54a4619be72f94f695": {
          "model_module": "@jupyter-widgets/controls",
          "model_name": "HBoxModel",
          "state": {
            "_view_name": "HBoxView",
            "_dom_classes": [],
            "_model_name": "HBoxModel",
            "_view_module": "@jupyter-widgets/controls",
            "_model_module_version": "1.5.0",
            "_view_count": null,
            "_view_module_version": "1.5.0",
            "box_style": "",
            "layout": "IPY_MODEL_9459e1e909074ccba4c0eb3b1c6d1ce5",
            "_model_module": "@jupyter-widgets/controls",
            "children": [
              "IPY_MODEL_2ef6704fc2e646548eff637f165bfd54",
              "IPY_MODEL_18340640e9b1407e960be9f7f3efbe23"
            ]
          }
        },
        "9459e1e909074ccba4c0eb3b1c6d1ce5": {
          "model_module": "@jupyter-widgets/base",
          "model_name": "LayoutModel",
          "state": {
            "_view_name": "LayoutView",
            "grid_template_rows": null,
            "right": null,
            "justify_content": null,
            "_view_module": "@jupyter-widgets/base",
            "overflow": null,
            "_model_module_version": "1.2.0",
            "_view_count": null,
            "flex_flow": null,
            "width": null,
            "min_width": null,
            "border": null,
            "align_items": null,
            "bottom": null,
            "_model_module": "@jupyter-widgets/base",
            "top": null,
            "grid_column": null,
            "overflow_y": null,
            "overflow_x": null,
            "grid_auto_flow": null,
            "grid_area": null,
            "grid_template_columns": null,
            "flex": null,
            "_model_name": "LayoutModel",
            "justify_items": null,
            "grid_row": null,
            "max_height": null,
            "align_content": null,
            "visibility": null,
            "align_self": null,
            "height": null,
            "min_height": null,
            "padding": null,
            "grid_auto_rows": null,
            "grid_gap": null,
            "max_width": null,
            "order": null,
            "_view_module_version": "1.2.0",
            "grid_template_areas": null,
            "object_position": null,
            "object_fit": null,
            "grid_auto_columns": null,
            "margin": null,
            "display": null,
            "left": null
          }
        },
        "2ef6704fc2e646548eff637f165bfd54": {
          "model_module": "@jupyter-widgets/controls",
          "model_name": "IntProgressModel",
          "state": {
            "_view_name": "ProgressView",
            "style": "IPY_MODEL_3404bf9eb0f44f6e91f9fb3fc1ec32f9",
            "_dom_classes": [],
            "description": "",
            "_model_name": "IntProgressModel",
            "bar_style": "success",
            "max": 476,
            "_view_module": "@jupyter-widgets/controls",
            "_model_module_version": "1.5.0",
            "value": 476,
            "_view_count": null,
            "_view_module_version": "1.5.0",
            "orientation": "horizontal",
            "min": 0,
            "description_tooltip": null,
            "_model_module": "@jupyter-widgets/controls",
            "layout": "IPY_MODEL_7d41d9ad7294481e871359dbd9a8f62c"
          }
        },
        "18340640e9b1407e960be9f7f3efbe23": {
          "model_module": "@jupyter-widgets/controls",
          "model_name": "HTMLModel",
          "state": {
            "_view_name": "HTMLView",
            "style": "IPY_MODEL_3041a333857b4405b979e83a8a73572a",
            "_dom_classes": [],
            "description": "",
            "_model_name": "HTMLModel",
            "placeholder": "​",
            "_view_module": "@jupyter-widgets/controls",
            "_model_module_version": "1.5.0",
            "value": "100% 476/476 [00:03&lt;00:00, 136.09it/s]",
            "_view_count": null,
            "_view_module_version": "1.5.0",
            "description_tooltip": null,
            "_model_module": "@jupyter-widgets/controls",
            "layout": "IPY_MODEL_6e662c4825c84f1596688997e82409d6"
          }
        },
        "3404bf9eb0f44f6e91f9fb3fc1ec32f9": {
          "model_module": "@jupyter-widgets/controls",
          "model_name": "ProgressStyleModel",
          "state": {
            "_view_name": "StyleView",
            "_model_name": "ProgressStyleModel",
            "description_width": "",
            "_view_module": "@jupyter-widgets/base",
            "_model_module_version": "1.5.0",
            "_view_count": null,
            "_view_module_version": "1.2.0",
            "bar_color": null,
            "_model_module": "@jupyter-widgets/controls"
          }
        },
        "7d41d9ad7294481e871359dbd9a8f62c": {
          "model_module": "@jupyter-widgets/base",
          "model_name": "LayoutModel",
          "state": {
            "_view_name": "LayoutView",
            "grid_template_rows": null,
            "right": null,
            "justify_content": null,
            "_view_module": "@jupyter-widgets/base",
            "overflow": null,
            "_model_module_version": "1.2.0",
            "_view_count": null,
            "flex_flow": null,
            "width": null,
            "min_width": null,
            "border": null,
            "align_items": null,
            "bottom": null,
            "_model_module": "@jupyter-widgets/base",
            "top": null,
            "grid_column": null,
            "overflow_y": null,
            "overflow_x": null,
            "grid_auto_flow": null,
            "grid_area": null,
            "grid_template_columns": null,
            "flex": null,
            "_model_name": "LayoutModel",
            "justify_items": null,
            "grid_row": null,
            "max_height": null,
            "align_content": null,
            "visibility": null,
            "align_self": null,
            "height": null,
            "min_height": null,
            "padding": null,
            "grid_auto_rows": null,
            "grid_gap": null,
            "max_width": null,
            "order": null,
            "_view_module_version": "1.2.0",
            "grid_template_areas": null,
            "object_position": null,
            "object_fit": null,
            "grid_auto_columns": null,
            "margin": null,
            "display": null,
            "left": null
          }
        },
        "3041a333857b4405b979e83a8a73572a": {
          "model_module": "@jupyter-widgets/controls",
          "model_name": "DescriptionStyleModel",
          "state": {
            "_view_name": "StyleView",
            "_model_name": "DescriptionStyleModel",
            "description_width": "",
            "_view_module": "@jupyter-widgets/base",
            "_model_module_version": "1.5.0",
            "_view_count": null,
            "_view_module_version": "1.2.0",
            "_model_module": "@jupyter-widgets/controls"
          }
        },
        "6e662c4825c84f1596688997e82409d6": {
          "model_module": "@jupyter-widgets/base",
          "model_name": "LayoutModel",
          "state": {
            "_view_name": "LayoutView",
            "grid_template_rows": null,
            "right": null,
            "justify_content": null,
            "_view_module": "@jupyter-widgets/base",
            "overflow": null,
            "_model_module_version": "1.2.0",
            "_view_count": null,
            "flex_flow": null,
            "width": null,
            "min_width": null,
            "border": null,
            "align_items": null,
            "bottom": null,
            "_model_module": "@jupyter-widgets/base",
            "top": null,
            "grid_column": null,
            "overflow_y": null,
            "overflow_x": null,
            "grid_auto_flow": null,
            "grid_area": null,
            "grid_template_columns": null,
            "flex": null,
            "_model_name": "LayoutModel",
            "justify_items": null,
            "grid_row": null,
            "max_height": null,
            "align_content": null,
            "visibility": null,
            "align_self": null,
            "height": null,
            "min_height": null,
            "padding": null,
            "grid_auto_rows": null,
            "grid_gap": null,
            "max_width": null,
            "order": null,
            "_view_module_version": "1.2.0",
            "grid_template_areas": null,
            "object_position": null,
            "object_fit": null,
            "grid_auto_columns": null,
            "margin": null,
            "display": null,
            "left": null
          }
        }
      }
    }
  },
  "cells": [
    {
      "cell_type": "markdown",
      "metadata": {
        "id": "view-in-github",
        "colab_type": "text"
      },
      "source": [
        "<a href=\"https://colab.research.google.com/github/trallala9/dw_matrix-Tego-repo-nie-mozesz-przegapic-XD/blob/master/MatrixDay5.ipynb\" target=\"_parent\"><img src=\"https://colab.research.google.com/assets/colab-badge.svg\" alt=\"Open In Colab\"/></a>"
      ]
    },
    {
      "cell_type": "code",
      "metadata": {
        "id": "ce18aPZiVY4L",
        "colab_type": "code",
        "outputId": "b87a27a8-9bb5-496b-e8cd-61f55bbd6f7a",
        "colab": {
          "base_uri": "https://localhost:8080/",
          "height": 202
        }
      },
      "source": [
        "! pip install eli5"
      ],
      "execution_count": 54,
      "outputs": [
        {
          "output_type": "stream",
          "text": [
            "Requirement already satisfied: eli5 in /usr/local/lib/python3.6/dist-packages (0.10.1)\n",
            "Requirement already satisfied: six in /usr/local/lib/python3.6/dist-packages (from eli5) (1.12.0)\n",
            "Requirement already satisfied: attrs>16.0.0 in /usr/local/lib/python3.6/dist-packages (from eli5) (19.3.0)\n",
            "Requirement already satisfied: jinja2 in /usr/local/lib/python3.6/dist-packages (from eli5) (2.11.1)\n",
            "Requirement already satisfied: tabulate>=0.7.7 in /usr/local/lib/python3.6/dist-packages (from eli5) (0.8.6)\n",
            "Requirement already satisfied: numpy>=1.9.0 in /usr/local/lib/python3.6/dist-packages (from eli5) (1.17.5)\n",
            "Requirement already satisfied: scipy in /usr/local/lib/python3.6/dist-packages (from eli5) (1.4.1)\n",
            "Requirement already satisfied: scikit-learn>=0.18 in /usr/local/lib/python3.6/dist-packages (from eli5) (0.22.1)\n",
            "Requirement already satisfied: graphviz in /usr/local/lib/python3.6/dist-packages (from eli5) (0.10.1)\n",
            "Requirement already satisfied: MarkupSafe>=0.23 in /usr/local/lib/python3.6/dist-packages (from jinja2->eli5) (1.1.1)\n",
            "Requirement already satisfied: joblib>=0.11 in /usr/local/lib/python3.6/dist-packages (from scikit-learn>=0.18->eli5) (0.14.1)\n"
          ],
          "name": "stdout"
        }
      ]
    },
    {
      "cell_type": "code",
      "metadata": {
        "id": "lkTw2y6MVuxU",
        "colab_type": "code",
        "colab": {}
      },
      "source": [
        "#WCZYTUJEMY POTRZEBNE BIBLIOTEKI \n",
        "\n",
        "import pandas as pd\n",
        "import numpy as np\n",
        "from sklearn.tree import DecisionTreeRegressor\n",
        "#model lasu losowego\n",
        "from sklearn.ensemble import RandomForestRegressor\n",
        "\n",
        "from sklearn.metrics import mean_absolute_error\n",
        "#do sprawdzania jakosci modelu, walidacji\n",
        "from sklearn.model_selection import cross_val_score\n",
        "\n",
        "import eli5\n",
        "from eli5.sklearn import PermutationImportance\n",
        "#za pomocą literal_eval przywracamy stringi do prostszej formy zapisu czyli slownika\n",
        "from ast import literal_eval\n",
        "from tqdm import tqdm_notebook"
      ],
      "execution_count": 0,
      "outputs": []
    },
    {
      "cell_type": "code",
      "metadata": {
        "id": "usGzw8b_XkCB",
        "colab_type": "code",
        "outputId": "089cf536-d10c-4410-913e-9f6bb584ef82",
        "colab": {
          "base_uri": "https://localhost:8080/",
          "height": 34
        }
      },
      "source": [
        "#wchodzimy do katalogu\n",
        "cd \"/content/drive/My Drive/Colab Notebooks/dw_matrix-Tego-repo-nie-mozesz-przegapic-XD\""
      ],
      "execution_count": 56,
      "outputs": [
        {
          "output_type": "stream",
          "text": [
            "/content/drive/My Drive/Colab Notebooks/dw_matrix-Tego-repo-nie-mozesz-przegapic-XD\n"
          ],
          "name": "stdout"
        }
      ]
    },
    {
      "cell_type": "code",
      "metadata": {
        "id": "YigGcSZEX_ME",
        "colab_type": "code",
        "outputId": "f444fa30-54d3-433f-c9ac-a8ba3465dc01",
        "colab": {
          "base_uri": "https://localhost:8080/",
          "height": 34
        }
      },
      "source": [
        "#wyswietlamy zawartosc katalogu\n",
        "ls"
      ],
      "execution_count": 57,
      "outputs": [
        {
          "output_type": "stream",
          "text": [
            "\u001b[0m\u001b[01;34mdata\u001b[0m/  HelloGithub.ipynb  LICENSE  \u001b[01;34mmatrix_one\u001b[0m/  README.md\n"
          ],
          "name": "stdout"
        }
      ]
    },
    {
      "cell_type": "code",
      "metadata": {
        "id": "Gyyt3nhfYDHs",
        "colab_type": "code",
        "outputId": "575e6bd7-199d-4e58-e515-25de43ddf8ff",
        "colab": {
          "base_uri": "https://localhost:8080/",
          "height": 34
        }
      },
      "source": [
        "#wyswietlamy zawartosc folderu data\n",
        "ls data"
      ],
      "execution_count": 58,
      "outputs": [
        {
          "output_type": "stream",
          "text": [
            "men_shoes.csv\n"
          ],
          "name": "stdout"
        }
      ]
    },
    {
      "cell_type": "code",
      "metadata": {
        "id": "OMKVMB2qYXGL",
        "colab_type": "code",
        "colab": {}
      },
      "source": [
        "#wczytujemy dane\n",
        "df = pd.read_csv('data/men_shoes.csv', low_memory=False)"
      ],
      "execution_count": 0,
      "outputs": []
    },
    {
      "cell_type": "code",
      "metadata": {
        "id": "-W8Dt1O9YtbP",
        "colab_type": "code",
        "outputId": "1d20668e-e40e-4d5b-8508-49e0623c183a",
        "colab": {
          "base_uri": "https://localhost:8080/",
          "height": 218
        }
      },
      "source": [
        "#co mamy w srodku\n",
        "df.columns "
      ],
      "execution_count": 60,
      "outputs": [
        {
          "output_type": "execute_result",
          "data": {
            "text/plain": [
              "Index(['id', 'asins', 'brand', 'categories', 'colors', 'count', 'dateadded',\n",
              "       'dateupdated', 'descriptions', 'dimension', 'ean', 'features',\n",
              "       'flavors', 'imageurls', 'isbn', 'keys', 'manufacturer',\n",
              "       'manufacturernumber', 'merchants', 'name', 'prices_amountmin',\n",
              "       'prices_amountmax', 'prices_availability', 'prices_color',\n",
              "       'prices_condition', 'prices_count', 'prices_currency',\n",
              "       'prices_dateadded', 'prices_dateseen', 'prices_flavor', 'prices_issale',\n",
              "       'prices_merchant', 'prices_offer', 'prices_returnpolicy',\n",
              "       'prices_shipping', 'prices_size', 'prices_source', 'prices_sourceurls',\n",
              "       'prices_warranty', 'quantities', 'reviews', 'sizes', 'skus',\n",
              "       'sourceurls', 'upc', 'vin', 'websiteids', 'weight'],\n",
              "      dtype='object')"
            ]
          },
          "metadata": {
            "tags": []
          },
          "execution_count": 60
        }
      ]
    },
    {
      "cell_type": "code",
      "metadata": {
        "id": "uKwGcNs_Y9PN",
        "colab_type": "code",
        "outputId": "56ce66d6-24c8-4fda-a548-454fe87cffd9",
        "colab": {
          "base_uri": "https://localhost:8080/",
          "height": 218
        }
      },
      "source": [
        "#przykladowe dane\n",
        "df.prices_amountmin"
      ],
      "execution_count": 61,
      "outputs": [
        {
          "output_type": "execute_result",
          "data": {
            "text/plain": [
              "0        39.89\n",
              "1        51.99\n",
              "2        40.02\n",
              "3        50.31\n",
              "4        46.26\n",
              "         ...  \n",
              "18275    29.95\n",
              "18276    64.95\n",
              "18277    32.48\n",
              "18278    31.48\n",
              "18279    72.00\n",
              "Name: prices_amountmin, Length: 18280, dtype: float64"
            ]
          },
          "metadata": {
            "tags": []
          },
          "execution_count": 61
        }
      ]
    },
    {
      "cell_type": "code",
      "metadata": {
        "id": "wAHjuEl7avGG",
        "colab_type": "code",
        "colab": {}
      },
      "source": [
        "def run_model(feats, model = DecisionTreeRegressor(max_depth=5)):\n",
        "  X = df[ feats].values\n",
        "  y = df[ 'prices_amountmin'].values\n",
        "\n",
        "  scores = cross_val_score(model, X, y, scoring='neg_mean_absolute_error')\n",
        "  return np.mean(scores), np.std(scores)"
      ],
      "execution_count": 0,
      "outputs": []
    },
    {
      "cell_type": "code",
      "metadata": {
        "id": "dNbJGQNrbyP3",
        "colab_type": "code",
        "outputId": "e08aa711-089a-4475-f1bf-899925c45317",
        "colab": {
          "base_uri": "https://localhost:8080/",
          "height": 34
        }
      },
      "source": [
        "df['brand_cat']= df['brand'].factorize()[0]\n",
        "run_model(['brand_cat'])"
      ],
      "execution_count": 63,
      "outputs": [
        {
          "output_type": "execute_result",
          "data": {
            "text/plain": [
              "(-58.38655694633361, 4.223555478221712)"
            ]
          },
          "metadata": {
            "tags": []
          },
          "execution_count": 63
        }
      ]
    },
    {
      "cell_type": "code",
      "metadata": {
        "id": "c7P93qbOcI8X",
        "colab_type": "code",
        "outputId": "35e259db-3c7e-4af2-827a-e87d2bf9ad7f",
        "colab": {
          "base_uri": "https://localhost:8080/",
          "height": 34
        }
      },
      "source": [
        "#dla usprawnienia/normalizacja\n",
        "#mapujemy dane .map i zamieniamy zapis duzych liter(str) na male:\n",
        "#.map(lambda x: str(x).lower()\n",
        "\n",
        "df['brand_cat']= df['brand'].map(lambda x: str(x).lower()).factorize()[0]\n",
        "run_model(['brand_cat'])"
      ],
      "execution_count": 64,
      "outputs": [
        {
          "output_type": "execute_result",
          "data": {
            "text/plain": [
              "(-58.133398968282776, 4.206122611474276)"
            ]
          },
          "metadata": {
            "tags": []
          },
          "execution_count": 64
        }
      ]
    },
    {
      "cell_type": "code",
      "metadata": {
        "id": "tVW7JDWxcPPf",
        "colab_type": "code",
        "outputId": "7be01ce7-bfe5-46cb-b41e-97358d961f41",
        "colab": {
          "base_uri": "https://localhost:8080/",
          "height": 34
        }
      },
      "source": [
        "#usprwnienia jakosci modelu przykladowo za pomocą RFR\n",
        "\n",
        "model = RandomForestRegressor(max_depth=5, n_estimators=100, random_state=0)\n",
        "run_model(['brand_cat'], model)"
      ],
      "execution_count": 65,
      "outputs": [
        {
          "output_type": "execute_result",
          "data": {
            "text/plain": [
              "(-57.31783843165656, 4.181246596160967)"
            ]
          },
          "metadata": {
            "tags": []
          },
          "execution_count": 65
        }
      ]
    },
    {
      "cell_type": "code",
      "metadata": {
        "id": "iyHUCvrZ-8iu",
        "colab_type": "code",
        "outputId": "4cc4d95b-4e65-4f93-a523-eba0d6bba81d",
        "colab": {
          "base_uri": "https://localhost:8080/",
          "height": 501
        }
      },
      "source": [
        "df.head()"
      ],
      "execution_count": 66,
      "outputs": [
        {
          "output_type": "execute_result",
          "data": {
            "text/html": [
              "<div>\n",
              "<style scoped>\n",
              "    .dataframe tbody tr th:only-of-type {\n",
              "        vertical-align: middle;\n",
              "    }\n",
              "\n",
              "    .dataframe tbody tr th {\n",
              "        vertical-align: top;\n",
              "    }\n",
              "\n",
              "    .dataframe thead th {\n",
              "        text-align: right;\n",
              "    }\n",
              "</style>\n",
              "<table border=\"1\" class=\"dataframe\">\n",
              "  <thead>\n",
              "    <tr style=\"text-align: right;\">\n",
              "      <th></th>\n",
              "      <th>id</th>\n",
              "      <th>asins</th>\n",
              "      <th>brand</th>\n",
              "      <th>categories</th>\n",
              "      <th>colors</th>\n",
              "      <th>count</th>\n",
              "      <th>dateadded</th>\n",
              "      <th>dateupdated</th>\n",
              "      <th>descriptions</th>\n",
              "      <th>dimension</th>\n",
              "      <th>ean</th>\n",
              "      <th>features</th>\n",
              "      <th>flavors</th>\n",
              "      <th>imageurls</th>\n",
              "      <th>isbn</th>\n",
              "      <th>keys</th>\n",
              "      <th>manufacturer</th>\n",
              "      <th>manufacturernumber</th>\n",
              "      <th>merchants</th>\n",
              "      <th>name</th>\n",
              "      <th>prices_amountmin</th>\n",
              "      <th>prices_amountmax</th>\n",
              "      <th>prices_availability</th>\n",
              "      <th>prices_color</th>\n",
              "      <th>prices_condition</th>\n",
              "      <th>prices_count</th>\n",
              "      <th>prices_currency</th>\n",
              "      <th>prices_dateadded</th>\n",
              "      <th>prices_dateseen</th>\n",
              "      <th>prices_flavor</th>\n",
              "      <th>prices_issale</th>\n",
              "      <th>prices_merchant</th>\n",
              "      <th>prices_offer</th>\n",
              "      <th>prices_returnpolicy</th>\n",
              "      <th>prices_shipping</th>\n",
              "      <th>prices_size</th>\n",
              "      <th>prices_source</th>\n",
              "      <th>prices_sourceurls</th>\n",
              "      <th>prices_warranty</th>\n",
              "      <th>quantities</th>\n",
              "      <th>reviews</th>\n",
              "      <th>sizes</th>\n",
              "      <th>skus</th>\n",
              "      <th>sourceurls</th>\n",
              "      <th>upc</th>\n",
              "      <th>vin</th>\n",
              "      <th>websiteids</th>\n",
              "      <th>weight</th>\n",
              "      <th>brand_cat</th>\n",
              "    </tr>\n",
              "  </thead>\n",
              "  <tbody>\n",
              "    <tr>\n",
              "      <th>0</th>\n",
              "      <td>AVpfHrJ6ilAPnD_xVXOI</td>\n",
              "      <td>NaN</td>\n",
              "      <td>Josmo</td>\n",
              "      <td>Clothing,Shoes,Men's Shoes,All Men's Shoes</td>\n",
              "      <td>NaN</td>\n",
              "      <td>NaN</td>\n",
              "      <td>2016-11-07T00:45:12Z</td>\n",
              "      <td>2016-11-07T00:45:12Z</td>\n",
              "      <td>[{\"dateSeen\":[\"2016-11-07T00:45:12Z\"],\"sourceU...</td>\n",
              "      <td>NaN</td>\n",
              "      <td>6.993020e+11</td>\n",
              "      <td>[{\"key\":\"Gender\",\"value\":[\"Men\"]},{\"key\":\"Shoe...</td>\n",
              "      <td>NaN</td>\n",
              "      <td>https://i5.walmartimages.com/asr/13ac3d61-003c...</td>\n",
              "      <td>NaN</td>\n",
              "      <td>josmo/8190wnavy75,699302044036,0699302044036</td>\n",
              "      <td>NaN</td>\n",
              "      <td>8190-W-NAVY-7.5</td>\n",
              "      <td>[{\"dateSeen\":[\"2016-11-07T00:45:12Z\"],\"name\":\"...</td>\n",
              "      <td>Josmo 8190 Plain Infant Walking Shoes, Navy - ...</td>\n",
              "      <td>39.89</td>\n",
              "      <td>39.89</td>\n",
              "      <td>NaN</td>\n",
              "      <td>NaN</td>\n",
              "      <td>NaN</td>\n",
              "      <td>NaN</td>\n",
              "      <td>USD</td>\n",
              "      <td>2016-11-07T00:45:12Z</td>\n",
              "      <td>2016-11-05T00:00:00Z</td>\n",
              "      <td>NaN</td>\n",
              "      <td>True</td>\n",
              "      <td>NaN</td>\n",
              "      <td>REDUCED USD 12.10</td>\n",
              "      <td>NaN</td>\n",
              "      <td>NaN</td>\n",
              "      <td>NaN</td>\n",
              "      <td>NaN</td>\n",
              "      <td>https://www.walmart.com/ip/Josmo-8190-Plain-In...</td>\n",
              "      <td>NaN</td>\n",
              "      <td>NaN</td>\n",
              "      <td>NaN</td>\n",
              "      <td>NaN</td>\n",
              "      <td>NaN</td>\n",
              "      <td>https://www.walmart.com/ip/Josmo-8190-Plain-In...</td>\n",
              "      <td>6.993020e+11</td>\n",
              "      <td>NaN</td>\n",
              "      <td>NaN</td>\n",
              "      <td>NaN</td>\n",
              "      <td>0</td>\n",
              "    </tr>\n",
              "    <tr>\n",
              "      <th>1</th>\n",
              "      <td>AVpfHrJ6ilAPnD_xVXOI</td>\n",
              "      <td>NaN</td>\n",
              "      <td>Josmo</td>\n",
              "      <td>Clothing,Shoes,Men's Shoes,All Men's Shoes</td>\n",
              "      <td>NaN</td>\n",
              "      <td>NaN</td>\n",
              "      <td>2016-11-07T00:45:12Z</td>\n",
              "      <td>2016-11-07T00:45:12Z</td>\n",
              "      <td>[{\"dateSeen\":[\"2016-11-07T00:45:12Z\"],\"sourceU...</td>\n",
              "      <td>NaN</td>\n",
              "      <td>6.993020e+11</td>\n",
              "      <td>[{\"key\":\"Gender\",\"value\":[\"Men\"]},{\"key\":\"Shoe...</td>\n",
              "      <td>NaN</td>\n",
              "      <td>https://i5.walmartimages.com/asr/13ac3d61-003c...</td>\n",
              "      <td>NaN</td>\n",
              "      <td>josmo/8190wnavy75,699302044036,0699302044036</td>\n",
              "      <td>NaN</td>\n",
              "      <td>8190-W-NAVY-7.5</td>\n",
              "      <td>[{\"dateSeen\":[\"2016-11-07T00:45:12Z\"],\"name\":\"...</td>\n",
              "      <td>Josmo 8190 Plain Infant Walking Shoes, Navy - ...</td>\n",
              "      <td>51.99</td>\n",
              "      <td>51.99</td>\n",
              "      <td>NaN</td>\n",
              "      <td>NaN</td>\n",
              "      <td>new</td>\n",
              "      <td>NaN</td>\n",
              "      <td>USD</td>\n",
              "      <td>2016-11-07T00:45:12Z</td>\n",
              "      <td>2016-11-05T00:00:00Z</td>\n",
              "      <td>NaN</td>\n",
              "      <td>False</td>\n",
              "      <td>UnbeatableSale - Walmart.com</td>\n",
              "      <td>REDUCED USD 12.10</td>\n",
              "      <td>NaN</td>\n",
              "      <td>NaN</td>\n",
              "      <td>NaN</td>\n",
              "      <td>NaN</td>\n",
              "      <td>https://www.walmart.com/ip/Josmo-8190-Plain-In...</td>\n",
              "      <td>NaN</td>\n",
              "      <td>NaN</td>\n",
              "      <td>NaN</td>\n",
              "      <td>NaN</td>\n",
              "      <td>NaN</td>\n",
              "      <td>https://www.walmart.com/ip/Josmo-8190-Plain-In...</td>\n",
              "      <td>6.993020e+11</td>\n",
              "      <td>NaN</td>\n",
              "      <td>NaN</td>\n",
              "      <td>NaN</td>\n",
              "      <td>0</td>\n",
              "    </tr>\n",
              "    <tr>\n",
              "      <th>2</th>\n",
              "      <td>AVpfHsWP1cnluZ0-eVZ7</td>\n",
              "      <td>NaN</td>\n",
              "      <td>SERVUS BY HONEYWELL</td>\n",
              "      <td>All Men's Shoes,Shoes,Men's Shoes,Clothing</td>\n",
              "      <td>NaN</td>\n",
              "      <td>NaN</td>\n",
              "      <td>2016-06-14T04:29:57Z</td>\n",
              "      <td>2016-07-09T20:26:48Z</td>\n",
              "      <td>[{\"dateSeen\":[\"2016-07-09T20:26:48Z\"],\"sourceU...</td>\n",
              "      <td>NaN</td>\n",
              "      <td>NaN</td>\n",
              "      <td>[{\"key\":\"Gender\",\"value\":[\"Men\"]},{\"key\":\"Colo...</td>\n",
              "      <td>NaN</td>\n",
              "      <td>http://i5.walmartimages.com/dfw/dce07b8c-5844/...</td>\n",
              "      <td>NaN</td>\n",
              "      <td>servusbyhoneywell/zsr101blmlg</td>\n",
              "      <td>NaN</td>\n",
              "      <td>ZSR101BLMLG</td>\n",
              "      <td>[{\"dateSeen\":[\"2016-06-14T04:29:57Z\"],\"name\":\"...</td>\n",
              "      <td>Servus By Honeywell Shoe Studs Zsr101blmlg</td>\n",
              "      <td>40.02</td>\n",
              "      <td>40.02</td>\n",
              "      <td>NaN</td>\n",
              "      <td>NaN</td>\n",
              "      <td>new</td>\n",
              "      <td>NaN</td>\n",
              "      <td>USD</td>\n",
              "      <td>2016-06-14T04:29:57Z</td>\n",
              "      <td>2016-03-08T00:00:00Z</td>\n",
              "      <td>NaN</td>\n",
              "      <td>False</td>\n",
              "      <td>SIM Supply Inc - Walmart.com</td>\n",
              "      <td>NaN</td>\n",
              "      <td>NaN</td>\n",
              "      <td>NaN</td>\n",
              "      <td>NaN</td>\n",
              "      <td>NaN</td>\n",
              "      <td>http://www.walmart.com/ip/Studs-Shoe-Large-Pr-...</td>\n",
              "      <td>NaN</td>\n",
              "      <td>NaN</td>\n",
              "      <td>NaN</td>\n",
              "      <td>NaN</td>\n",
              "      <td>NaN</td>\n",
              "      <td>http://www.walmart.com/ip/Studs-Shoe-Large-Pr-...</td>\n",
              "      <td>NaN</td>\n",
              "      <td>NaN</td>\n",
              "      <td>NaN</td>\n",
              "      <td>NaN</td>\n",
              "      <td>1</td>\n",
              "    </tr>\n",
              "    <tr>\n",
              "      <th>3</th>\n",
              "      <td>AVpfHsWP1cnluZ0-eVZ7</td>\n",
              "      <td>NaN</td>\n",
              "      <td>SERVUS BY HONEYWELL</td>\n",
              "      <td>All Men's Shoes,Shoes,Men's Shoes,Clothing</td>\n",
              "      <td>NaN</td>\n",
              "      <td>NaN</td>\n",
              "      <td>2016-06-14T04:29:57Z</td>\n",
              "      <td>2016-07-09T20:26:48Z</td>\n",
              "      <td>[{\"dateSeen\":[\"2016-07-09T20:26:48Z\"],\"sourceU...</td>\n",
              "      <td>NaN</td>\n",
              "      <td>NaN</td>\n",
              "      <td>[{\"key\":\"Gender\",\"value\":[\"Men\"]},{\"key\":\"Colo...</td>\n",
              "      <td>NaN</td>\n",
              "      <td>http://i5.walmartimages.com/dfw/dce07b8c-5844/...</td>\n",
              "      <td>NaN</td>\n",
              "      <td>servusbyhoneywell/zsr101blmlg</td>\n",
              "      <td>NaN</td>\n",
              "      <td>ZSR101BLMLG</td>\n",
              "      <td>[{\"dateSeen\":[\"2016-06-14T04:29:57Z\"],\"name\":\"...</td>\n",
              "      <td>Servus By Honeywell Shoe Studs Zsr101blmlg</td>\n",
              "      <td>50.31</td>\n",
              "      <td>50.31</td>\n",
              "      <td>NaN</td>\n",
              "      <td>NaN</td>\n",
              "      <td>new</td>\n",
              "      <td>NaN</td>\n",
              "      <td>USD</td>\n",
              "      <td>2016-06-14T04:29:57Z</td>\n",
              "      <td>2015-11-30T00:00:00Z</td>\n",
              "      <td>NaN</td>\n",
              "      <td>False</td>\n",
              "      <td>SIM Supply Inc - Walmart.com</td>\n",
              "      <td>NaN</td>\n",
              "      <td>NaN</td>\n",
              "      <td>NaN</td>\n",
              "      <td>NaN</td>\n",
              "      <td>NaN</td>\n",
              "      <td>http://www.walmart.com/ip/Studs-Shoe-Large-Pr-...</td>\n",
              "      <td>NaN</td>\n",
              "      <td>NaN</td>\n",
              "      <td>NaN</td>\n",
              "      <td>NaN</td>\n",
              "      <td>NaN</td>\n",
              "      <td>http://www.walmart.com/ip/Studs-Shoe-Large-Pr-...</td>\n",
              "      <td>NaN</td>\n",
              "      <td>NaN</td>\n",
              "      <td>NaN</td>\n",
              "      <td>NaN</td>\n",
              "      <td>1</td>\n",
              "    </tr>\n",
              "    <tr>\n",
              "      <th>4</th>\n",
              "      <td>AVpfHsWP1cnluZ0-eVZ7</td>\n",
              "      <td>NaN</td>\n",
              "      <td>SERVUS BY HONEYWELL</td>\n",
              "      <td>All Men's Shoes,Shoes,Men's Shoes,Clothing</td>\n",
              "      <td>NaN</td>\n",
              "      <td>NaN</td>\n",
              "      <td>2016-06-14T04:29:57Z</td>\n",
              "      <td>2016-07-09T20:26:48Z</td>\n",
              "      <td>[{\"dateSeen\":[\"2016-07-09T20:26:48Z\"],\"sourceU...</td>\n",
              "      <td>NaN</td>\n",
              "      <td>NaN</td>\n",
              "      <td>[{\"key\":\"Gender\",\"value\":[\"Men\"]},{\"key\":\"Colo...</td>\n",
              "      <td>NaN</td>\n",
              "      <td>http://i5.walmartimages.com/dfw/dce07b8c-5844/...</td>\n",
              "      <td>NaN</td>\n",
              "      <td>servusbyhoneywell/zsr101blmlg</td>\n",
              "      <td>NaN</td>\n",
              "      <td>ZSR101BLMLG</td>\n",
              "      <td>[{\"dateSeen\":[\"2016-06-14T04:29:57Z\"],\"name\":\"...</td>\n",
              "      <td>Servus By Honeywell Shoe Studs Zsr101blmlg</td>\n",
              "      <td>46.26</td>\n",
              "      <td>46.26</td>\n",
              "      <td>NaN</td>\n",
              "      <td>NaN</td>\n",
              "      <td>new</td>\n",
              "      <td>NaN</td>\n",
              "      <td>USD</td>\n",
              "      <td>2016-06-14T04:29:57Z</td>\n",
              "      <td>2016-04-29T00:00:00Z</td>\n",
              "      <td>NaN</td>\n",
              "      <td>False</td>\n",
              "      <td>SIM Supply Inc - Walmart.com</td>\n",
              "      <td>NaN</td>\n",
              "      <td>NaN</td>\n",
              "      <td>NaN</td>\n",
              "      <td>NaN</td>\n",
              "      <td>NaN</td>\n",
              "      <td>http://www.walmart.com/ip/Studs-Shoe-Large-Pr-...</td>\n",
              "      <td>NaN</td>\n",
              "      <td>NaN</td>\n",
              "      <td>NaN</td>\n",
              "      <td>NaN</td>\n",
              "      <td>NaN</td>\n",
              "      <td>http://www.walmart.com/ip/Studs-Shoe-Large-Pr-...</td>\n",
              "      <td>NaN</td>\n",
              "      <td>NaN</td>\n",
              "      <td>NaN</td>\n",
              "      <td>NaN</td>\n",
              "      <td>1</td>\n",
              "    </tr>\n",
              "  </tbody>\n",
              "</table>\n",
              "</div>"
            ],
            "text/plain": [
              "                     id asins  ... weight brand_cat\n",
              "0  AVpfHrJ6ilAPnD_xVXOI   NaN  ...    NaN         0\n",
              "1  AVpfHrJ6ilAPnD_xVXOI   NaN  ...    NaN         0\n",
              "2  AVpfHsWP1cnluZ0-eVZ7   NaN  ...    NaN         1\n",
              "3  AVpfHsWP1cnluZ0-eVZ7   NaN  ...    NaN         1\n",
              "4  AVpfHsWP1cnluZ0-eVZ7   NaN  ...    NaN         1\n",
              "\n",
              "[5 rows x 49 columns]"
            ]
          },
          "metadata": {
            "tags": []
          },
          "execution_count": 66
        }
      ]
    },
    {
      "cell_type": "code",
      "metadata": {
        "id": "vgZKS56H_xAy",
        "colab_type": "code",
        "outputId": "786b1643-727d-4008-9a56-8567e923c216",
        "colab": {
          "base_uri": "https://localhost:8080/",
          "height": 138
        }
      },
      "source": [
        "#zobaczmy co sie dzieje w features\n",
        "\n",
        "df.features.head().values"
      ],
      "execution_count": 67,
      "outputs": [
        {
          "output_type": "execute_result",
          "data": {
            "text/plain": [
              "array(['[{\"key\":\"Gender\",\"value\":[\"Men\"]},{\"key\":\"Shoe Size\",\"value\":[\"M\"]},{\"key\":\"Shoe Category\",\"value\":[\"Men\\'s Shoes\"]},{\"key\":\"Color\",\"value\":[\"Multicolor\"]},{\"key\":\"Manufacturer Part Number\",\"value\":[\"8190-W-NAVY-7.5\"]},{\"key\":\"Brand\",\"value\":[\"Josmo\"]}]',\n",
              "       '[{\"key\":\"Gender\",\"value\":[\"Men\"]},{\"key\":\"Shoe Size\",\"value\":[\"M\"]},{\"key\":\"Shoe Category\",\"value\":[\"Men\\'s Shoes\"]},{\"key\":\"Color\",\"value\":[\"Multicolor\"]},{\"key\":\"Manufacturer Part Number\",\"value\":[\"8190-W-NAVY-7.5\"]},{\"key\":\"Brand\",\"value\":[\"Josmo\"]}]',\n",
              "       '[{\"key\":\"Gender\",\"value\":[\"Men\"]},{\"key\":\"Color\",\"value\":[\"Black\"]},{\"key\":\"Shipping Weight (in pounds)\",\"value\":[\"0.45\"]},{\"key\":\"Condition\",\"value\":[\"New\"]},{\"key\":\"Brand\",\"value\":[\"SERVUS BY HONEYWELL\"]},{\"key\":\"manufacturer_part_number\",\"value\":[\"ZSR101BLMLG\"]}]',\n",
              "       '[{\"key\":\"Gender\",\"value\":[\"Men\"]},{\"key\":\"Color\",\"value\":[\"Black\"]},{\"key\":\"Shipping Weight (in pounds)\",\"value\":[\"0.45\"]},{\"key\":\"Condition\",\"value\":[\"New\"]},{\"key\":\"Brand\",\"value\":[\"SERVUS BY HONEYWELL\"]},{\"key\":\"manufacturer_part_number\",\"value\":[\"ZSR101BLMLG\"]}]',\n",
              "       '[{\"key\":\"Gender\",\"value\":[\"Men\"]},{\"key\":\"Color\",\"value\":[\"Black\"]},{\"key\":\"Shipping Weight (in pounds)\",\"value\":[\"0.45\"]},{\"key\":\"Condition\",\"value\":[\"New\"]},{\"key\":\"Brand\",\"value\":[\"SERVUS BY HONEYWELL\"]},{\"key\":\"manufacturer_part_number\",\"value\":[\"ZSR101BLMLG\"]}]'],\n",
              "      dtype=object)"
            ]
          },
          "metadata": {
            "tags": []
          },
          "execution_count": 67
        }
      ]
    },
    {
      "cell_type": "code",
      "metadata": {
        "id": "XeJSBN7nCQOA",
        "colab_type": "code",
        "outputId": "c794c4e7-eb34-483c-f65b-bb3977eda402",
        "colab": {
          "base_uri": "https://localhost:8080/",
          "height": 118
        }
      },
      "source": [
        "#przywracamy stringi do prostszej formy zapisu czyli slownika - litera_eval \n",
        "#i za pomoca biblioteki tqdm_notebook wizualizujemy postepy pracy\n",
        "\n",
        "str_dict = '[{\"key\":\"Gender\",\"value\":[\"Men\"]},{\"key\":\"Shoe Size\",\"value\":[\"M\"]},{\"key\":\"Shoe Category\",\"value\":[\"Men\\'s Shoes\"]},{\"key\":\"Color\",\"value\":[\"Multicolor\"]},{\"key\":\"Manufacturer Part Number\",\"value\":[\"8190-W-NAVY-7.5\"]},{\"key\":\"Brand\",\"value\":[\"Josmo\"]}]'\n",
        "literal_eval(str_dict)\n",
        "#literal_eval(str_dict)[0]['value'][0]\n"
      ],
      "execution_count": 68,
      "outputs": [
        {
          "output_type": "execute_result",
          "data": {
            "text/plain": [
              "[{'key': 'Gender', 'value': ['Men']},\n",
              " {'key': 'Shoe Size', 'value': ['M']},\n",
              " {'key': 'Shoe Category', 'value': [\"Men's Shoes\"]},\n",
              " {'key': 'Color', 'value': ['Multicolor']},\n",
              " {'key': 'Manufacturer Part Number', 'value': ['8190-W-NAVY-7.5']},\n",
              " {'key': 'Brand', 'value': ['Josmo']}]"
            ]
          },
          "metadata": {
            "tags": []
          },
          "execution_count": 68
        }
      ]
    },
    {
      "cell_type": "code",
      "metadata": {
        "id": "fccqgQQBERm_",
        "colab_type": "code",
        "colab": {}
      },
      "source": [
        " #funkcja parsująca wartosci np. z features\n",
        " #jeżeli jest wartosc pusta to zwrocmy pusta liste\n",
        " #w kazdym innym przypadku zwracamy sparsowany x\n",
        " #za pomoca replace usuwamy brudne znaki/dane\n",
        " \n",
        " def parse_features(x):\n",
        "   if str(x) == 'nan': return []\n",
        "   return literal_eval(x.replace('\\\\\"', '\"'))\n",
        "#bierzemy nasze features i mapujemy przez funkcje parse_features otzymujemy \n",
        "#features_parsed\n",
        " df['features_parsed'] = df['features'].map(parse_features)"
      ],
      "execution_count": 0,
      "outputs": []
    },
    {
      "cell_type": "code",
      "metadata": {
        "id": "e49tRH-tJECu",
        "colab_type": "code",
        "outputId": "b6e17f75-dc11-4913-fd5f-659b3cf6bf64",
        "colab": {
          "base_uri": "https://localhost:8080/",
          "height": 118
        }
      },
      "source": [
        "df['features_parsed'].head()"
      ],
      "execution_count": 70,
      "outputs": [
        {
          "output_type": "execute_result",
          "data": {
            "text/plain": [
              "0    [{'key': 'Gender', 'value': ['Men']}, {'key': ...\n",
              "1    [{'key': 'Gender', 'value': ['Men']}, {'key': ...\n",
              "2    [{'key': 'Gender', 'value': ['Men']}, {'key': ...\n",
              "3    [{'key': 'Gender', 'value': ['Men']}, {'key': ...\n",
              "4    [{'key': 'Gender', 'value': ['Men']}, {'key': ...\n",
              "Name: features_parsed, dtype: object"
            ]
          },
          "metadata": {
            "tags": []
          },
          "execution_count": 70
        }
      ]
    },
    {
      "cell_type": "code",
      "metadata": {
        "id": "acz3A0pEJUG8",
        "colab_type": "code",
        "colab": {}
      },
      "source": [
        "#za pomoca slownika output_dict normalizujemy dane\n",
        "\n",
        "def parse_features(x):\n",
        "  output_dict = {}\n",
        "  if str(x) == 'nan' : return output_dict\n",
        "\n",
        "  features = literal_eval(x.replace('\\\\\"', '\"'))\n",
        "  for item in features:\n",
        "    key = item['key'].lower().strip()\n",
        "    value = item['value'][0].lower().strip()\n",
        "\n",
        "    output_dict[key] = value\n",
        "\n",
        "  return output_dict\n",
        "\n",
        "df['features_parsed'] = df['features'].map(parse_features)\n"
      ],
      "execution_count": 0,
      "outputs": []
    },
    {
      "cell_type": "code",
      "metadata": {
        "id": "fbCgbrsSRwrS",
        "colab_type": "code",
        "outputId": "6c122144-2918-4a96-e4d4-ebadb3376080",
        "colab": {
          "base_uri": "https://localhost:8080/",
          "height": 118
        }
      },
      "source": [
        "df['features_parsed'].head().values"
      ],
      "execution_count": 72,
      "outputs": [
        {
          "output_type": "execute_result",
          "data": {
            "text/plain": [
              "array([{'gender': 'men', 'shoe size': 'm', 'shoe category': \"men's shoes\", 'color': 'multicolor', 'manufacturer part number': '8190-w-navy-7.5', 'brand': 'josmo'},\n",
              "       {'gender': 'men', 'shoe size': 'm', 'shoe category': \"men's shoes\", 'color': 'multicolor', 'manufacturer part number': '8190-w-navy-7.5', 'brand': 'josmo'},\n",
              "       {'gender': 'men', 'color': 'black', 'shipping weight (in pounds)': '0.45', 'condition': 'new', 'brand': 'servus by honeywell', 'manufacturer_part_number': 'zsr101blmlg'},\n",
              "       {'gender': 'men', 'color': 'black', 'shipping weight (in pounds)': '0.45', 'condition': 'new', 'brand': 'servus by honeywell', 'manufacturer_part_number': 'zsr101blmlg'},\n",
              "       {'gender': 'men', 'color': 'black', 'shipping weight (in pounds)': '0.45', 'condition': 'new', 'brand': 'servus by honeywell', 'manufacturer_part_number': 'zsr101blmlg'}],\n",
              "      dtype=object)"
            ]
          },
          "metadata": {
            "tags": []
          },
          "execution_count": 72
        }
      ]
    },
    {
      "cell_type": "code",
      "metadata": {
        "id": "swPgjo42wCH3",
        "colab_type": "code",
        "outputId": "d834c37a-c92c-4651-857b-203342bb6180",
        "colab": {
          "base_uri": "https://localhost:8080/",
          "height": 34
        }
      },
      "source": [
        "keys = set()\n",
        "\n",
        "df['features_parsed'].map( lambda x: keys.update(x.keys()) )\n",
        "\n",
        "len(keys)"
      ],
      "execution_count": 73,
      "outputs": [
        {
          "output_type": "execute_result",
          "data": {
            "text/plain": [
              "476"
            ]
          },
          "metadata": {
            "tags": []
          },
          "execution_count": 73
        }
      ]
    },
    {
      "cell_type": "code",
      "metadata": {
        "id": "ij2OCzeR63lP",
        "colab_type": "code",
        "outputId": "eb039fcd-6a14-4d08-a4b8-1d36f87c6d91",
        "colab": {
          "base_uri": "https://localhost:8080/",
          "height": 66,
          "referenced_widgets": [
            "316e426665ac4e54a4619be72f94f695",
            "9459e1e909074ccba4c0eb3b1c6d1ce5",
            "2ef6704fc2e646548eff637f165bfd54",
            "18340640e9b1407e960be9f7f3efbe23",
            "3404bf9eb0f44f6e91f9fb3fc1ec32f9",
            "7d41d9ad7294481e871359dbd9a8f62c",
            "3041a333857b4405b979e83a8a73572a",
            "6e662c4825c84f1596688997e82409d6"
          ]
        }
      },
      "source": [
        "def get_name_feat(key):\n",
        "  return 'feat_' + key\n",
        "\n",
        "for key in tqdm_notebook(keys):\n",
        "  df[get_name_feat(key)] = df.features_parsed.map( lambda feats: feats[key] if key in feats else np.nan)"
      ],
      "execution_count": 74,
      "outputs": [
        {
          "output_type": "display_data",
          "data": {
            "application/vnd.jupyter.widget-view+json": {
              "model_id": "316e426665ac4e54a4619be72f94f695",
              "version_minor": 0,
              "version_major": 2
            },
            "text/plain": [
              "HBox(children=(IntProgress(value=0, max=476), HTML(value='')))"
            ]
          },
          "metadata": {
            "tags": []
          }
        },
        {
          "output_type": "stream",
          "text": [
            "\n"
          ],
          "name": "stdout"
        }
      ]
    },
    {
      "cell_type": "code",
      "metadata": {
        "id": "zs6rP2cDJdB3",
        "colab_type": "code",
        "outputId": "8b9dd80f-8f90-47ab-b823-76cb450e1149",
        "colab": {
          "base_uri": "https://localhost:8080/",
          "height": 134
        }
      },
      "source": [
        "df.columns"
      ],
      "execution_count": 75,
      "outputs": [
        {
          "output_type": "execute_result",
          "data": {
            "text/plain": [
              "Index(['id', 'asins', 'brand', 'categories', 'colors', 'count', 'dateadded',\n",
              "       'dateupdated', 'descriptions', 'dimension',\n",
              "       ...\n",
              "       'feat_age', 'feat_pattern', 'feat_colour', 'feat_gold karat',\n",
              "       'feat_combined shipping', 'feat_model', 'feat_chest size',\n",
              "       'feat_metal color', 'feat_szie', 'feat_reinforced knee'],\n",
              "      dtype='object', length=526)"
            ]
          },
          "metadata": {
            "tags": []
          },
          "execution_count": 75
        }
      ]
    },
    {
      "cell_type": "code",
      "metadata": {
        "id": "j1BavOuBKdS2",
        "colab_type": "code",
        "outputId": "2bfbe0be-1db5-4e5e-974d-4b81a7e3fff8",
        "colab": {
          "base_uri": "https://localhost:8080/",
          "height": 34
        }
      },
      "source": [
        "df[ False == df['feat_athlete'].isnull() ].shape[0]"
      ],
      "execution_count": 76,
      "outputs": [
        {
          "output_type": "execute_result",
          "data": {
            "text/plain": [
              "8"
            ]
          },
          "metadata": {
            "tags": []
          },
          "execution_count": 76
        }
      ]
    },
    {
      "cell_type": "code",
      "metadata": {
        "id": "kd2-PObkNqbU",
        "colab_type": "code",
        "outputId": "288db759-4020-43b1-9951-0166f27ac1d5",
        "colab": {
          "base_uri": "https://localhost:8080/",
          "height": 34
        }
      },
      "source": [
        "df.shape[0]"
      ],
      "execution_count": 77,
      "outputs": [
        {
          "output_type": "execute_result",
          "data": {
            "text/plain": [
              "18280"
            ]
          },
          "metadata": {
            "tags": []
          },
          "execution_count": 77
        }
      ]
    },
    {
      "cell_type": "code",
      "metadata": {
        "id": "1IbLw4jrNvsW",
        "colab_type": "code",
        "outputId": "97f96e27-461a-462e-c710-9ea1c5ce454a",
        "colab": {
          "base_uri": "https://localhost:8080/",
          "height": 34
        }
      },
      "source": [
        "df[ False == df['feat_athlete'].isnull() ].shape[0] / df.shape[0] * 100"
      ],
      "execution_count": 78,
      "outputs": [
        {
          "output_type": "execute_result",
          "data": {
            "text/plain": [
              "0.0437636761487965"
            ]
          },
          "metadata": {
            "tags": []
          },
          "execution_count": 78
        }
      ]
    },
    {
      "cell_type": "code",
      "metadata": {
        "id": "NQrYbSicOQJ8",
        "colab_type": "code",
        "colab": {}
      },
      "source": [
        "keys_stat = {}\n",
        "for key in keys:\n",
        "   keys_stat[key] = df[ False == df[get_name_feat(key)].isnull() ].shape[0] / df.shape[0] * 100"
      ],
      "execution_count": 0,
      "outputs": []
    },
    {
      "cell_type": "code",
      "metadata": {
        "id": "YPfbTa4KQSRK",
        "colab_type": "code",
        "colab": {}
      },
      "source": [
        "#keys_stat"
      ],
      "execution_count": 0,
      "outputs": []
    },
    {
      "cell_type": "code",
      "metadata": {
        "id": "MedzzysfSOmD",
        "colab_type": "code",
        "outputId": "2971f76b-beb1-4694-a3f0-78b440671192",
        "colab": {
          "base_uri": "https://localhost:8080/",
          "height": 101
        }
      },
      "source": [
        "#zróbmy sobie filter\n",
        "{k:v for k,v in keys_stat.items() if v > 30}"
      ],
      "execution_count": 81,
      "outputs": [
        {
          "output_type": "execute_result",
          "data": {
            "text/plain": [
              "{'brand': 48.62691466083151,\n",
              " 'color': 47.784463894967175,\n",
              " 'gender': 50.17505470459519,\n",
              " 'manufacturer part number': 36.252735229759296,\n",
              " 'material': 34.9070021881838}"
            ]
          },
          "metadata": {
            "tags": []
          },
          "execution_count": 81
        }
      ]
    },
    {
      "cell_type": "code",
      "metadata": {
        "id": "TXFgzQ-oAXNs",
        "colab_type": "code",
        "colab": {}
      },
      "source": [
        "#FEATURE ENGINERING\n",
        "\n",
        "df['feat_brand_cat']= df['feat_brand'].factorize()[0]\n",
        "df['feat_color_cat']= df['feat_color'].factorize()[0]\n",
        "df['feat_gender_cat']= df['feat_gender'].factorize()[0]\n",
        "df['feat_manufacturer part number_cat']= df['feat_manufacturer part number'].factorize()[0]\n",
        "df['feat_material_cat']= df['feat_material'].factorize()[0]\n",
        "\n",
        "df['feat_sport_cat']= df['feat_sport'].factorize()[0]\n",
        "df['feat_style_cat']= df['feat_style'].factorize()[0]\n",
        "\n",
        "for key in keys:\n",
        "  df[get_name_feat(key) + '_cat'] = df[get_name_feat(key)].factorize()[0]\n"
      ],
      "execution_count": 0,
      "outputs": []
    },
    {
      "cell_type": "code",
      "metadata": {
        "id": "7nxEHks7Cvxh",
        "colab_type": "code",
        "outputId": "7cc2fb83-2c52-4a18-bdd7-9c4202556814",
        "colab": {
          "base_uri": "https://localhost:8080/",
          "height": 34
        }
      },
      "source": [
        "df[ df.brand != df.feat_brand ].shape"
      ],
      "execution_count": 83,
      "outputs": [
        {
          "output_type": "execute_result",
          "data": {
            "text/plain": [
              "(18228, 1002)"
            ]
          },
          "metadata": {
            "tags": []
          },
          "execution_count": 83
        }
      ]
    },
    {
      "cell_type": "code",
      "metadata": {
        "id": "OLzwleogDakT",
        "colab_type": "code",
        "outputId": "289a342b-99de-4d1c-9567-1d98b22867f0",
        "colab": {
          "base_uri": "https://localhost:8080/",
          "height": 34
        }
      },
      "source": [
        "df[ df.brand == df.feat_brand].shape"
      ],
      "execution_count": 84,
      "outputs": [
        {
          "output_type": "execute_result",
          "data": {
            "text/plain": [
              "(52, 1002)"
            ]
          },
          "metadata": {
            "tags": []
          },
          "execution_count": 84
        }
      ]
    },
    {
      "cell_type": "code",
      "metadata": {
        "id": "zx_IQNsqFrSN",
        "colab_type": "code",
        "outputId": "d5b7c3fc-f2f7-49a9-d37e-5278201ba028",
        "colab": {
          "base_uri": "https://localhost:8080/",
          "height": 34
        }
      },
      "source": [
        "df['brand'] = df['brand'].map(lambda x: str(x).lower())\n",
        "df[ df.brand == df.feat_brand].shape"
      ],
      "execution_count": 137,
      "outputs": [
        {
          "output_type": "execute_result",
          "data": {
            "text/plain": [
              "(8846, 1002)"
            ]
          },
          "metadata": {
            "tags": []
          },
          "execution_count": 137
        }
      ]
    },
    {
      "cell_type": "code",
      "metadata": {
        "id": "PpMbXyLWISaL",
        "colab_type": "code",
        "outputId": "177f8400-bd50-473a-b239-6b73384a73af",
        "colab": {
          "base_uri": "https://localhost:8080/",
          "height": 34
        }
      },
      "source": [
        "model = RandomForestRegressor(max_depth=5, n_estimators=100)\n",
        "run_model(['brand_cat',], model)"
      ],
      "execution_count": 138,
      "outputs": [
        {
          "output_type": "execute_result",
          "data": {
            "text/plain": [
              "(-57.296099094125566, 4.171827961237538)"
            ]
          },
          "metadata": {
            "tags": []
          },
          "execution_count": 138
        }
      ]
    },
    {
      "cell_type": "code",
      "metadata": {
        "id": "XiG6J-0fKmZm",
        "colab_type": "code",
        "outputId": "3cc6b2a2-259f-4fd1-8d06-0f266fa88df7",
        "colab": {
          "base_uri": "https://localhost:8080/",
          "height": 1000
        }
      },
      "source": [
        "feats_cat = [x for x in df.columns if 'cat' in x]\n",
        "feats_cat"
      ],
      "execution_count": 139,
      "outputs": [
        {
          "output_type": "execute_result",
          "data": {
            "text/plain": [
              "['categories',\n",
              " 'brand_cat',\n",
              " 'feat_certifications and listings',\n",
              " 'feat_multi pack indicator',\n",
              " 'feat_recommended location',\n",
              " 'feat_location - city/state',\n",
              " 'feat_fabrication',\n",
              " 'feat_shoe category',\n",
              " 'feat_clothing category',\n",
              " 'feat_location - country',\n",
              " 'feat_catalog',\n",
              " 'feat_brand_cat',\n",
              " 'feat_color_cat',\n",
              " 'feat_gender_cat',\n",
              " 'feat_manufacturer part number_cat',\n",
              " 'feat_material_cat',\n",
              " 'feat_sport_cat',\n",
              " 'feat_style_cat',\n",
              " 'feat_watch case shape_cat',\n",
              " 'feat_age start_cat',\n",
              " 'feat_frame material_cat',\n",
              " 'feat_bridge/temple size:_cat',\n",
              " 'feat_country of origin assembly:_cat',\n",
              " 'feat_international shipping?_cat',\n",
              " 'feat_handbag style_cat',\n",
              " 'feat_purpose_cat',\n",
              " 'feat_age end_cat',\n",
              " 'feat_item weight_cat',\n",
              " 'feat_protects against_cat',\n",
              " 'feat_ul safety listing_cat',\n",
              " 'feat_cushioning_cat',\n",
              " 'feat_polarized_cat',\n",
              " 'feat_is portable_cat',\n",
              " 'feat_age segment_cat',\n",
              " 'feat_number of pockets_cat',\n",
              " 'feat_sub type_cat',\n",
              " 'feat_season_cat',\n",
              " 'feat_chronograph_cat',\n",
              " 'feat_mpn_cat',\n",
              " 'feat_leather :_cat',\n",
              " 'feat_part number_cat',\n",
              " 'feat_airport friendly_cat',\n",
              " 'feat_fit to_cat',\n",
              " 'feat_leg_cat',\n",
              " 'feat_certifications and listings_cat',\n",
              " 'feat_golf shoe type_cat',\n",
              " 'feat_feature_cat',\n",
              " 'feat_bracelet style_cat',\n",
              " 'feat_sleeve style_cat',\n",
              " 'feat_labor_cat',\n",
              " 'feat_domestic shipping_cat',\n",
              " 'feat_fits brands_cat',\n",
              " 'feat_eye size:_cat',\n",
              " 'feat_diamond color_cat',\n",
              " 'feat_is orthopedic_cat',\n",
              " 'feat_profession_cat',\n",
              " 'feat_country//region of manufacture_cat',\n",
              " 'feat_shape_cat',\n",
              " 'feat_color family_cat',\n",
              " 'feat_finish_cat',\n",
              " 'feat_multi pack indicator_cat',\n",
              " 'feat_watch band material_cat',\n",
              " 'feat_fine or fashion_cat',\n",
              " 'feat_date first available at amazon.co.uk_cat',\n",
              " 'feat_bridge size:_cat',\n",
              " 'feat_resizable_cat',\n",
              " 'feat_band length (in.)_cat',\n",
              " 'feat_product type_cat',\n",
              " 'feat_material type_cat',\n",
              " 'feat_case finish_cat',\n",
              " 'feat_age group_cat',\n",
              " 'feat_case type:_cat',\n",
              " 'feat_heat zones_cat',\n",
              " 'feat_sub style_cat',\n",
              " 'feat_fits most screen size_cat',\n",
              " 'feat_manufacturer number_cat',\n",
              " 'feat_fits styles_cat',\n",
              " 'feat_fabric material_cat',\n",
              " 'feat_style code_cat',\n",
              " 'feat_clothing product type_cat',\n",
              " 'feat_100% adidas authentic_cat',\n",
              " 'feat_shoe width_cat',\n",
              " 'feat_looks best on these face shapes:_cat',\n",
              " 'feat_closure_cat',\n",
              " 'feat_battery voltage_cat',\n",
              " 'feat_fit:_cat',\n",
              " 'feat_machine washable_cat',\n",
              " 'feat_recommended location_cat',\n",
              " 'feat_enhanced visibility (reflective)_cat',\n",
              " 'feat_type of sole_cat',\n",
              " 'feat_uv protection_cat',\n",
              " 'feat_auto shut-off_cat',\n",
              " 'feat_polarised_cat',\n",
              " 'feat_fit_cat',\n",
              " 'feat_conflict_cat',\n",
              " 'feat_authenticity_cat',\n",
              " 'feat_case type_cat',\n",
              " 'feat_used with equipment type_cat',\n",
              " 'feat_instrument_cat',\n",
              " 'feat_country of origin_cat',\n",
              " 'feat_contains cubic zirconia_cat',\n",
              " 'feat_design_cat',\n",
              " 'feat_rx-able_cat',\n",
              " 'feat_dial material_cat',\n",
              " 'feat_fits model_cat',\n",
              " 'feat_removable liner_cat',\n",
              " 'feat_power type_cat',\n",
              " 'feat_fabric care instructions_cat',\n",
              " 'feat_hardsided or softsided_cat',\n",
              " 'feat_mpn#_cat',\n",
              " 'feat_shipping weight (in pounds)_cat',\n",
              " 'feat_eyewear frame style_cat',\n",
              " 'feat_closure style_cat',\n",
              " 'feat_manufacturer_part_number_cat',\n",
              " 'feat_batteries required_cat',\n",
              " 'feat_spikes type_cat',\n",
              " 'feat_style #_cat',\n",
              " 'feat_hood_cat',\n",
              " 'feat_assembled product dimensions (l x w x h)_cat',\n",
              " 'feat_diamond clarity_cat',\n",
              " 'feat_lined_cat',\n",
              " 'feat_main color_cat',\n",
              " 'feat_width_cat',\n",
              " 'feat_location - city/state_cat',\n",
              " 'feat_fishing_cat',\n",
              " 'feat_sock size_cat',\n",
              " 'feat_gps_cat',\n",
              " 'feat_display technology_cat',\n",
              " 'feat_bag size range_cat',\n",
              " 'feat_cm_cat',\n",
              " 'feat_main colour_cat',\n",
              " 'feat_adidas_cat',\n",
              " 'feat_best sellers rank_cat',\n",
              " 'feat_technician_cat',\n",
              " 'feat_number of items_cat',\n",
              " 'feat_style number_cat',\n",
              " 'feat_temple length_cat',\n",
              " 'feat_product #_cat',\n",
              " 'feat_packageweight_cat',\n",
              " 'feat_waist size_cat',\n",
              " 'feat_frame depth_cat',\n",
              " 'feat_is waterproof_cat',\n",
              " 'feat_inv_cat',\n",
              " 'feat_mechanic_cat',\n",
              " 'feat_crystal_cat',\n",
              " 'feat_shipping weight_cat',\n",
              " 'feat_pant style_cat',\n",
              " 'feat_number of wheels_cat',\n",
              " 'feat_seller inventory number_cat',\n",
              " 'feat_type 2_cat',\n",
              " 'feat_alarm_cat',\n",
              " 'feat_fabrication_cat',\n",
              " 'feat_quantity in set_cat',\n",
              " 'feat_fabric_cat',\n",
              " 'feat_resolution_cat',\n",
              " 'feat_fastener_cat',\n",
              " 'feat_motion control_cat',\n",
              " 'feat_metal stamp_cat',\n",
              " 'feat_color/finish family_cat',\n",
              " 'feat_inseam_cat',\n",
              " 'feat_band material_cat',\n",
              " 'feat_case back_cat',\n",
              " 'feat_high visibility (ansi compliant)_cat',\n",
              " 'feat_insulation_cat',\n",
              " 'feat_tactical_cat',\n",
              " 'feat_recommended use_cat',\n",
              " 'feat_euro size_cat',\n",
              " 'feat_batteries included?_cat',\n",
              " 'feat_hunting_cat',\n",
              " 'feat_charger included_cat',\n",
              " 'feat_water-resistant_cat',\n",
              " 'feat_use_cat',\n",
              " 'feat_features_cat',\n",
              " 'feat_case tone_cat',\n",
              " 'feat_is energy star-certified_cat',\n",
              " 'feat_has paper wood_cat',\n",
              " 'feat_diameter_cat',\n",
              " 'feat_era_cat',\n",
              " 'feat_work shoes_cat',\n",
              " 'feat_style name_cat',\n",
              " 'feat_global composite sports type_cat',\n",
              " 'feat_stylenumber_cat',\n",
              " 'feat_gemstone type_cat',\n",
              " 'feat_vehicle type_cat',\n",
              " 'feat_smart watch_cat',\n",
              " 'feat_colour code_cat',\n",
              " 'feat_impact resistant_cat',\n",
              " 'feat_lens material_cat',\n",
              " 'feat_condition_cat',\n",
              " 'feat_to fit_cat',\n",
              " 'feat_chain included_cat',\n",
              " 'feat_front_cat',\n",
              " 'feat_release_cat',\n",
              " 'feat_crown_cat',\n",
              " 'feat_charge time (minutes)_cat',\n",
              " 'feat_walmart no._cat',\n",
              " 'feat_insulated_cat',\n",
              " 'feat_has mercury_cat',\n",
              " 'feat_date first available at amazon.ca_cat',\n",
              " 'feat_footwear type_cat',\n",
              " 'feat_dial color_cat',\n",
              " 'feat_product name_cat',\n",
              " 'feat_special features_cat',\n",
              " 'feat_sizearm_cat',\n",
              " 'feat_����������������_cat',\n",
              " 'feat_accessory type_cat',\n",
              " 'feat_shoe closure_cat',\n",
              " 'feat_age range_cat',\n",
              " 'feat_military style_cat',\n",
              " 'feat_country////region of manufacture_cat',\n",
              " 'feat_nickel free_cat',\n",
              " 'feat_comfort technology_cat',\n",
              " 'feat_safety features_cat',\n",
              " 'feat_item width_cat',\n",
              " 'feat_boxed-product dimensions_cat',\n",
              " 'feat_safety apparel product type_cat',\n",
              " 'feat_ean_cat',\n",
              " 'feat_adjustable_cat',\n",
              " 'feat_clothing size_cat',\n",
              " 'feat_shoe category_cat',\n",
              " 'feat_number of batteries included_cat',\n",
              " 'feat_origin of components_cat',\n",
              " 'feat_auto_cat',\n",
              " 'feat_case thickness_cat',\n",
              " 'feat_genre_cat',\n",
              " 'feat_pronation_cat',\n",
              " 'feat_shade_cat',\n",
              " 'feat_article_cat',\n",
              " 'feat_digital camera_cat',\n",
              " 'feat_series name_cat',\n",
              " 'feat_movement_cat',\n",
              " 'feat_jacket length_cat',\n",
              " 'feat_case material_cat',\n",
              " 'feat_kids backpacks_cat',\n",
              " 'feat_ring style_cat',\n",
              " 'feat_band color_cat',\n",
              " 'feat_item style_cat',\n",
              " 'feat_water resistant_cat',\n",
              " 'feat_sizebridge_cat',\n",
              " 'feat_primary color_cat',\n",
              " 'feat_number of pieces_cat',\n",
              " 'feat_athlete_cat',\n",
              " 'feat_country/ organization_cat',\n",
              " 'feat_bezel_cat',\n",
              " 'feat_shoe size_cat',\n",
              " 'feat_stone type_cat',\n",
              " 'feat_lens technology_cat',\n",
              " 'feat_hammer loop_cat',\n",
              " 'feat_front style_cat',\n",
              " 'feat_color mapping_cat',\n",
              " 'feat_shirt size_cat',\n",
              " 'feat_sole_cat',\n",
              " 'feat_reinforced pockets_cat',\n",
              " 'feat_number of compartments_cat',\n",
              " 'feat_casual & dress shoe style_cat',\n",
              " 'feat_fits over eyeglasses_cat',\n",
              " 'feat_clothing category_cat',\n",
              " 'feat_location - country_cat',\n",
              " 'feat_msrp_cat',\n",
              " 'feat_size/dimensions_cat',\n",
              " 'feat_casing_cat',\n",
              " 'feat_country of manufacture_cat',\n",
              " 'feat_manufacturer_cat',\n",
              " 'feat_lens material:_cat',\n",
              " 'feat_disclosures_cat',\n",
              " 'feat_fuel type_cat',\n",
              " 'feat_retail price_cat',\n",
              " 'feat_light transmission (vlt)_cat',\n",
              " 'feat_batteries required?_cat',\n",
              " 'feat_chain length_cat',\n",
              " 'feat_audience_cat',\n",
              " 'feat_rise_cat',\n",
              " 'feat_video game platform_cat',\n",
              " 'feat_interior pockets_cat',\n",
              " 'feat_style:_cat',\n",
              " 'feat_outer material_cat',\n",
              " 'feat_frame shape_cat',\n",
              " 'feat_leather grade_cat',\n",
              " 'feat_transactionid_cat',\n",
              " 'feat_country of manufacturer_cat',\n",
              " 'feat_bridge_cat',\n",
              " 'feat_number of heat settings_cat',\n",
              " 'feat_sports league_cat',\n",
              " 'feat_character_cat',\n",
              " 'feat_parts_cat',\n",
              " 'feat_box_cat',\n",
              " 'feat_stability_cat',\n",
              " 'feat_carats_cat',\n",
              " 'feat_shoe fastening type_cat',\n",
              " 'feat_chain/necklace length (in.)_cat',\n",
              " 'feat_case diameter_cat',\n",
              " 'feat_country of origin components:_cat',\n",
              " 'feat_subdial_cat',\n",
              " 'feat_leg opening:_cat',\n",
              " 'feat_year made_cat',\n",
              " 'feat_height_cat',\n",
              " 'feat_overall material_cat',\n",
              " 'feat_hairstyle_cat',\n",
              " 'feat_material detail-1_cat',\n",
              " 'feat_ground_cat',\n",
              " 'feat_characteristics_cat',\n",
              " 'feat_heart rate monitor_cat',\n",
              " 'feat_face shape_cat',\n",
              " 'feat_arm_cat',\n",
              " 'feat_product in inches (l x w x h)_cat',\n",
              " 'feat_amazonbestsellersrank_cat',\n",
              " 'feat_item type_cat',\n",
              " 'feat_designer_cat',\n",
              " 'feat_item spec attr - style (ebay)_cat',\n",
              " 'feat_name_cat',\n",
              " 'feat_hooded_cat',\n",
              " 'feat_theme_cat',\n",
              " 'feat_lens color_cat',\n",
              " 'feat_watch style_cat',\n",
              " 'feat_suitable for_cat',\n",
              " 'feat_primary shelf id_cat',\n",
              " 'feat_dimensions_cat',\n",
              " 'feat_bed size_cat',\n",
              " 'feat_fastener type_cat',\n",
              " 'feat_waist_cat',\n",
              " 'feat_fabric type_cat',\n",
              " 'feat_upper material_cat',\n",
              " 'feat_sleeve length_cat',\n",
              " 'feat_safety feature_cat',\n",
              " 'feat_package_cat',\n",
              " 'feat_lens_cat',\n",
              " 'feat_variant group id_cat',\n",
              " 'feat_made in_cat',\n",
              " 'feat_lens type_cat',\n",
              " 'feat_vendor description_cat',\n",
              " 'feat_fabric content_cat',\n",
              " 'feat_материал_cat',\n",
              " 'feat_compass_cat',\n",
              " 'feat_count_cat',\n",
              " 'feat_watch shape_cat',\n",
              " 'feat_toe type_cat',\n",
              " 'feat_cleaning, care & maintenance_cat',\n",
              " 'feat_sock style_cat',\n",
              " 'feat_net weight_cat',\n",
              " 'feat_wheel type_cat',\n",
              " 'feat_designed for_cat',\n",
              " 'feat_mirrored_cat',\n",
              " 'feat_pattern or design_cat',\n",
              " 'feat_frame color_cat',\n",
              " 'feat_model number_cat',\n",
              " 'feat_expandable_cat',\n",
              " 'feat_hat style_cat',\n",
              " 'feat_elastic banded waist_cat',\n",
              " 'feat_age gender group_cat',\n",
              " 'feat_date_cat',\n",
              " 'feat_ring size_cat',\n",
              " 'feat_boot height_cat',\n",
              " 'feat_frame style_cat',\n",
              " 'feat_assembled product weight_cat',\n",
              " 'feat_sports team_cat',\n",
              " 'feat_clothing size type_cat',\n",
              " 'feat_length_cat',\n",
              " 'feat_chest_cat',\n",
              " 'feat_dial markers_cat',\n",
              " 'feat_lens tint_cat',\n",
              " 'feat_wash_cat',\n",
              " 'feat_construction_cat',\n",
              " 'feat_black_cat',\n",
              " 'feat_polarized lenses_cat',\n",
              " 'feat_year_cat',\n",
              " 'feat_label_cat',\n",
              " 'feat_weather-resistant_cat',\n",
              " 'feat_country of origin - components_cat',\n",
              " 'feat_target audience_cat',\n",
              " 'feat_hands_cat',\n",
              " 'feat_terrain_cat',\n",
              " 'feat_has expiration_cat',\n",
              " 'feat_frame material:_cat',\n",
              " 'feat_part type_cat',\n",
              " 'feat_clasp type_cat',\n",
              " 'feat_lining material_cat',\n",
              " 'feat_polarized?_cat',\n",
              " 'feat_full product manual_cat',\n",
              " 'feat_place of origin_cat',\n",
              " 'feat_removable hood_cat',\n",
              " 'feat_temple size:_cat',\n",
              " 'feat_necklace type_cat',\n",
              " 'feat_country of origin - assembly_cat',\n",
              " 'feat_contains batteries_cat',\n",
              " 'feat_applicable_cat',\n",
              " 'feat_sku_cat',\n",
              " 'feat_general warranty_cat',\n",
              " 'feat_occasion_cat',\n",
              " 'feat_weather resistant_cat',\n",
              " 'feat_wheeled_cat',\n",
              " 'feat_is polarized_cat',\n",
              " 'feat_sku#_cat',\n",
              " 'feat_is weather-resistant_cat',\n",
              " 'feat_date first available_cat',\n",
              " 'feat_power reserve_cat',\n",
              " 'feat_animal type_cat',\n",
              " 'feat_metal type_cat',\n",
              " 'feat_product id_cat',\n",
              " 'feat_materials_cat',\n",
              " 'feat_measurements:_cat',\n",
              " 'feat_has adaptive lenses_cat',\n",
              " 'feat_is wheeled_cat',\n",
              " 'feat_sku number_cat',\n",
              " 'feat_type_cat',\n",
              " 'feat_band type_cat',\n",
              " 'feat_contained battery type_cat',\n",
              " 'feat_band length_cat',\n",
              " 'feat_free item_cat',\n",
              " 'feat_display_cat',\n",
              " 'feat_is recyclable_cat',\n",
              " 'feat_nike product #_cat',\n",
              " 'feat_resolution megapixels_cat',\n",
              " 'feat_shipping to usa_cat',\n",
              " 'feat_catalog_cat',\n",
              " 'feat_waterproof_cat',\n",
              " 'feat_wind resistant_cat',\n",
              " 'feat_frame type_cat',\n",
              " 'feat_guaranteed authentic_cat',\n",
              " 'feat_productgroup_cat',\n",
              " 'feat_antiscratch lens coating_cat',\n",
              " 'feat_manufacturer sku_cat',\n",
              " 'feat_licensed_cat',\n",
              " 'feat_what includes_cat',\n",
              " 'feat_jewelry setting_cat',\n",
              " 'feat_is lined_cat',\n",
              " 'feat_band width_cat',\n",
              " 'feat_shoe height_cat',\n",
              " 'feat_stock no._cat',\n",
              " 'feat_very popular bag now a days_cat',\n",
              " 'feat_bridge width_cat',\n",
              " 'feat_capacity_cat',\n",
              " 'feat_uv rating_cat',\n",
              " 'feat_pocket_cat',\n",
              " 'feat_includes_cat',\n",
              " 'feat_nike id_cat',\n",
              " 'feat_lens color family_cat',\n",
              " 'feat_size_cat',\n",
              " 'feat_thick, warm, cozy_cat',\n",
              " 'feat_atpv arc rating_cat',\n",
              " 'feat_item weight unit of measure_cat',\n",
              " 'feat_eye protection type_cat',\n",
              " 'feat_picture_cat',\n",
              " 'feat_item character_cat',\n",
              " 'feat_heel height_cat',\n",
              " 'feat_lining_cat',\n",
              " 'feat_battery type_cat',\n",
              " 'feat_fabric care_cat',\n",
              " 'feat_is dark sky-compliant_cat',\n",
              " 'feat_is water-resistant_cat',\n",
              " 'feat_issued/ not-issued_cat',\n",
              " 'feat_model no._cat',\n",
              " 'feat_compatible devices_cat',\n",
              " 'feat_material composition_cat',\n",
              " 'feat_protection_cat',\n",
              " 'feat_neckline_cat',\n",
              " 'feat_light weight_cat',\n",
              " 'feat_fits models_cat',\n",
              " 'feat_product dimensions_cat',\n",
              " 'feat_autographed_cat',\n",
              " 'feat_foot arch_cat',\n",
              " 'feat_item color_cat',\n",
              " 'feat_item package quantity_cat',\n",
              " 'feat_navy blue_cat',\n",
              " 'feat_band manufacturer_cat',\n",
              " 'feat_garment care_cat',\n",
              " 'feat_lens width_cat',\n",
              " 'feat_watch power source_cat',\n",
              " 'feat_clothing type_cat',\n",
              " 'feat_assembled in country of origin_cat',\n",
              " 'feat_features & fastening_cat',\n",
              " 'feat_lens socket width_cat',\n",
              " 'feat_weight_cat',\n",
              " 'feat_flame resistant_cat',\n",
              " 'feat_attachment_cat',\n",
              " 'feat_international shipping_cat',\n",
              " 'feat_isbn_cat',\n",
              " 'feat_country/region of manufacture_cat',\n",
              " 'feat_age_cat',\n",
              " 'feat_pattern_cat',\n",
              " 'feat_colour_cat',\n",
              " 'feat_gold karat_cat',\n",
              " 'feat_combined shipping_cat',\n",
              " 'feat_model_cat',\n",
              " 'feat_chest size_cat',\n",
              " 'feat_metal color_cat',\n",
              " 'feat_szie_cat',\n",
              " 'feat_reinforced knee_cat']"
            ]
          },
          "metadata": {
            "tags": []
          },
          "execution_count": 139
        }
      ]
    },
    {
      "cell_type": "code",
      "metadata": {
        "id": "UOE34EW7PZ3J",
        "colab_type": "code",
        "outputId": "4c32413d-f014-4011-ab16-5f18b8aab152",
        "colab": {
          "base_uri": "https://localhost:8080/",
          "height": 286
        }
      },
      "source": [
        "#by skonwertować/znormalizować te wagi na gramy i zobaczyc czy polepszy wynik\n",
        "df['weight'].unique()"
      ],
      "execution_count": 140,
      "outputs": [
        {
          "output_type": "execute_result",
          "data": {
            "text/plain": [
              "array([nan, '3.0 lbs', '9 g', '1.45 lbs', '0.45 lbs', '1.0 lbs',\n",
              "       '0.23 lbs', '5.0 lbs', '5.5 lbs', '7.45 lbs', '4.0 lbs',\n",
              "       '2.7969 lbs', '3.9 lbs', '4.6 pounds', '2.1 lbs', '1.1057 lbs',\n",
              "       '15.0 lbs', '2.4 ounces', '454 g', '0.105 lbs', '9.1 ounces',\n",
              "       '4.8 lbs', '6.1 lbs', '6.5 lbs', '1.1041 lbs', '1.3 Kg', '91 g',\n",
              "       '20.0 lbs', '6.0 lbs', '386 g', '0.81 lbs', '4.5 lbs',\n",
              "       '0.5 ounces', '2.0 lbs', '3.13 lbs', '5.9 lbs', '6.15 lbs',\n",
              "       '1 pounds', '1.95 lbs', '2.15 lbs', '2 pounds', '2.1 pounds',\n",
              "       '14 Kg', '0.4788 lbs', '10.0 lbs', '0.38 lbs', '2.5 lbs',\n",
              "       '68.912 lbs', '45 g', '13.09 lbs', '2.5 pounds', '0.21 lbs',\n",
              "       '16.75 lbs', '6.3 lbs', '272 g', '1.8 Kg', '2.8 pounds', '0.1 lbs',\n",
              "       '5.05 lbs', '0.28 lbs', '76.08 lbs', '0.15 lbs', '200 g',\n",
              "       '7.8 pounds', '399 g', '4.95 lbs', '64.144 lbs', '24 pounds',\n",
              "       '73.696 lbs', '1.6 lbs', '6.6 ounces', '5 g', '1.2 Kg', '862 g',\n",
              "       '3.05 lb', '8.6 ounces', '3.6 lbs', '71.296 lbs', '5.2 pounds',\n",
              "       '3.44 lbs', '0.3 ounces', '1.4 Kg'], dtype=object)"
            ]
          },
          "metadata": {
            "tags": []
          },
          "execution_count": 140
        }
      ]
    },
    {
      "cell_type": "code",
      "metadata": {
        "id": "YtHBFUM0KCiu",
        "colab_type": "code",
        "colab": {}
      },
      "source": [
        "feats = ['brand_cat', 'feat_brand_cat','feat_gender_cat','feat_dial color_cat', 'feat_material_cat','feat_band manufacturer_cat',]\n",
        " \n",
        "#feats += feats_cat\n",
        "#feats = list(set(feats))\n",
        "#feats += ['feat_heart rate monitor_cat',\n",
        " #'feat_item package quantity_cat',\n",
        " #'feat_light transmission (vlt)_cat']\n",
        "\n",
        "\n",
        "model = RandomForestRegressor(max_depth=5, n_estimators=100)\n",
        "result = run_model(feats, model)"
      ],
      "execution_count": 0,
      "outputs": []
    },
    {
      "cell_type": "code",
      "metadata": {
        "id": "-Qz5vdThLrHE",
        "colab_type": "code",
        "outputId": "dd3ca2a1-6870-4f12-fc94-8448e4603d43",
        "colab": {
          "base_uri": "https://localhost:8080/",
          "height": 151
        }
      },
      "source": [
        "X = df[ feats ].values\n",
        "y = df['prices_amountmin'].values\n",
        "\n",
        "m = RandomForestRegressor(max_depth=5, n_estimators=100, random_state=0)\n",
        "m.fit(X, y)\n",
        "\n",
        "print(result)\n",
        "perm = PermutationImportance(m, random_state=1).fit(X, y);\n",
        "eli5.show_weights(perm, feature_names=feats)"
      ],
      "execution_count": 152,
      "outputs": [
        {
          "output_type": "stream",
          "text": [
            "(-56.99379991577325, 4.117496804177362)\n"
          ],
          "name": "stdout"
        },
        {
          "output_type": "execute_result",
          "data": {
            "text/html": [
              "\n",
              "    <style>\n",
              "    table.eli5-weights tr:hover {\n",
              "        filter: brightness(85%);\n",
              "    }\n",
              "</style>\n",
              "\n",
              "\n",
              "\n",
              "    \n",
              "\n",
              "    \n",
              "\n",
              "    \n",
              "\n",
              "    \n",
              "\n",
              "    \n",
              "\n",
              "    \n",
              "\n",
              "\n",
              "    \n",
              "\n",
              "    \n",
              "\n",
              "    \n",
              "\n",
              "    \n",
              "\n",
              "    \n",
              "\n",
              "    \n",
              "\n",
              "\n",
              "    \n",
              "\n",
              "    \n",
              "\n",
              "    \n",
              "\n",
              "    \n",
              "\n",
              "    \n",
              "        <table class=\"eli5-weights eli5-feature-importances\" style=\"border-collapse: collapse; border: none; margin-top: 0em; table-layout: auto;\">\n",
              "    <thead>\n",
              "    <tr style=\"border: none;\">\n",
              "        <th style=\"padding: 0 1em 0 0.5em; text-align: right; border: none;\">Weight</th>\n",
              "        <th style=\"padding: 0 0.5em 0 0.5em; text-align: left; border: none;\">Feature</th>\n",
              "    </tr>\n",
              "    </thead>\n",
              "    <tbody>\n",
              "    \n",
              "        <tr style=\"background-color: hsl(120, 100.00%, 80.00%); border: none;\">\n",
              "            <td style=\"padding: 0 1em 0 0.5em; text-align: right; border: none;\">\n",
              "                0.2622\n",
              "                \n",
              "                    &plusmn; 0.0113\n",
              "                \n",
              "            </td>\n",
              "            <td style=\"padding: 0 0.5em 0 0.5em; text-align: left; border: none;\">\n",
              "                brand_cat\n",
              "            </td>\n",
              "        </tr>\n",
              "    \n",
              "        <tr style=\"background-color: hsl(120, 100.00%, 89.14%); border: none;\">\n",
              "            <td style=\"padding: 0 1em 0 0.5em; text-align: right; border: none;\">\n",
              "                0.1096\n",
              "                \n",
              "                    &plusmn; 0.0044\n",
              "                \n",
              "            </td>\n",
              "            <td style=\"padding: 0 0.5em 0 0.5em; text-align: left; border: none;\">\n",
              "                feat_material_cat\n",
              "            </td>\n",
              "        </tr>\n",
              "    \n",
              "        <tr style=\"background-color: hsl(120, 100.00%, 96.42%); border: none;\">\n",
              "            <td style=\"padding: 0 1em 0 0.5em; text-align: right; border: none;\">\n",
              "                0.0225\n",
              "                \n",
              "                    &plusmn; 0.0041\n",
              "                \n",
              "            </td>\n",
              "            <td style=\"padding: 0 0.5em 0 0.5em; text-align: left; border: none;\">\n",
              "                feat_gender_cat\n",
              "            </td>\n",
              "        </tr>\n",
              "    \n",
              "        <tr style=\"background-color: hsl(120, 100.00%, 96.45%); border: none;\">\n",
              "            <td style=\"padding: 0 1em 0 0.5em; text-align: right; border: none;\">\n",
              "                0.0222\n",
              "                \n",
              "                    &plusmn; 0.0015\n",
              "                \n",
              "            </td>\n",
              "            <td style=\"padding: 0 0.5em 0 0.5em; text-align: left; border: none;\">\n",
              "                feat_brand_cat\n",
              "            </td>\n",
              "        </tr>\n",
              "    \n",
              "        <tr style=\"background-color: hsl(120, 100.00%, 97.55%); border: none;\">\n",
              "            <td style=\"padding: 0 1em 0 0.5em; text-align: right; border: none;\">\n",
              "                0.0131\n",
              "                \n",
              "                    &plusmn; 0.0007\n",
              "                \n",
              "            </td>\n",
              "            <td style=\"padding: 0 0.5em 0 0.5em; text-align: left; border: none;\">\n",
              "                feat_dial color_cat\n",
              "            </td>\n",
              "        </tr>\n",
              "    \n",
              "        <tr style=\"background-color: hsl(0, 100.00%, 100.00%); border: none;\">\n",
              "            <td style=\"padding: 0 1em 0 0.5em; text-align: right; border: none;\">\n",
              "                0\n",
              "                \n",
              "                    &plusmn; 0.0000\n",
              "                \n",
              "            </td>\n",
              "            <td style=\"padding: 0 0.5em 0 0.5em; text-align: left; border: none;\">\n",
              "                feat_band manufacturer_cat\n",
              "            </td>\n",
              "        </tr>\n",
              "    \n",
              "    \n",
              "    </tbody>\n",
              "</table>\n",
              "    \n",
              "\n",
              "    \n",
              "\n",
              "\n",
              "    \n",
              "\n",
              "    \n",
              "\n",
              "    \n",
              "\n",
              "    \n",
              "\n",
              "    \n",
              "\n",
              "    \n",
              "\n",
              "\n",
              "\n"
            ],
            "text/plain": [
              "<IPython.core.display.HTML object>"
            ]
          },
          "metadata": {
            "tags": []
          },
          "execution_count": 152
        }
      ]
    },
    {
      "cell_type": "code",
      "metadata": {
        "id": "lCTcbzyOMWbD",
        "colab_type": "code",
        "outputId": "a7be6d11-731a-496e-a2e7-208d58a59c71",
        "colab": {
          "base_uri": "https://localhost:8080/",
          "height": 218
        }
      },
      "source": [
        "df['brand'].value_counts()"
      ],
      "execution_count": 116,
      "outputs": [
        {
          "output_type": "execute_result",
          "data": {
            "text/plain": [
              "nike                 1777\n",
              "puma                  609\n",
              "ralph lauren          526\n",
              "vans                  386\n",
              "new balance           371\n",
              "                     ... \n",
              "silver lilly            1\n",
              "nike lunarglide 7       1\n",
              "ganeshahandicraft       1\n",
              "ib pad                  1\n",
              "bills khakis            1\n",
              "Name: brand, Length: 1732, dtype: int64"
            ]
          },
          "metadata": {
            "tags": []
          },
          "execution_count": 116
        }
      ]
    },
    {
      "cell_type": "code",
      "metadata": {
        "id": "XdbTmslJNyvs",
        "colab_type": "code",
        "outputId": "8f003830-9d83-41df-a9b9-749dad7ca6b0",
        "colab": {
          "base_uri": "https://localhost:8080/",
          "height": 218
        }
      },
      "source": [
        "df['brand'].value_counts(normalize=True)"
      ],
      "execution_count": 0,
      "outputs": [
        {
          "output_type": "execute_result",
          "data": {
            "text/plain": [
              "nike                 0.097210\n",
              "puma                 0.033315\n",
              "ralph lauren         0.028775\n",
              "vans                 0.021116\n",
              "new balance          0.020295\n",
              "                       ...   \n",
              "silver lilly         0.000055\n",
              "nike lunarglide 7    0.000055\n",
              "ganeshahandicraft    0.000055\n",
              "ib pad               0.000055\n",
              "bills khakis         0.000055\n",
              "Name: brand, Length: 1732, dtype: float64"
            ]
          },
          "metadata": {
            "tags": []
          },
          "execution_count": 38
        }
      ]
    },
    {
      "cell_type": "code",
      "metadata": {
        "id": "ZTjXqShiOB2z",
        "colab_type": "code",
        "outputId": "2acd264c-6820-493c-a32f-cf4bec5a4244",
        "colab": {
          "base_uri": "https://localhost:8080/",
          "height": 101
        }
      },
      "source": [
        "df[ df['brand'] == 'nike'].features_parsed.head().values"
      ],
      "execution_count": 0,
      "outputs": [
        {
          "output_type": "execute_result",
          "data": {
            "text/plain": [
              "array([{'sport': 'soccer', 'main color': 'orange', 'type': 'cleats', 'condition': 'new without box'},\n",
              "       {'sport': 'soccer', 'main color': 'orange', 'type': 'cleats', 'condition': 'new without box'},\n",
              "       {'sport': 'soccer', 'main color': 'orange', 'type': 'cleats', 'condition': 'new without box'},\n",
              "       {'style': 'athletic sneakers', 'condition': 'new with box'}, {}],\n",
              "      dtype=object)"
            ]
          },
          "metadata": {
            "tags": []
          },
          "execution_count": 39
        }
      ]
    },
    {
      "cell_type": "code",
      "metadata": {
        "id": "WF7Ytq7_OXOe",
        "colab_type": "code",
        "outputId": "25377fe0-c60f-461a-af51-11ac183191ee",
        "colab": {
          "base_uri": "https://localhost:8080/",
          "height": 84
        }
      },
      "source": [
        "df[ df['brand'] == 'nike'].features_parsed.sample(5).values"
      ],
      "execution_count": 0,
      "outputs": [
        {
          "output_type": "execute_result",
          "data": {
            "text/plain": [
              "array([{'style': 'basketball shoes', 'pattern': 'solid', 'country/region of manufacture': 'china', 'condition': 'new with box'},\n",
              "       {'sport': 'soccer', 'type': 'cleats', 'condition': 'new with box'},\n",
              "       {'style': 'basketball shoes', 'pattern': '575420 300', 'condition': 'new with box'},\n",
              "       {}, {'condition': 'new with box', 'type': 'cleats'}], dtype=object)"
            ]
          },
          "metadata": {
            "tags": []
          },
          "execution_count": 40
        }
      ]
    },
    {
      "cell_type": "code",
      "metadata": {
        "id": "TRBUiQtiJJcu",
        "colab_type": "code",
        "outputId": "3ee31173-170d-4cb0-d519-b58f0cd9c6b8",
        "colab": {
          "base_uri": "https://localhost:8080/",
          "height": 286
        }
      },
      "source": [
        "df['feat_age group'].value_counts()"
      ],
      "execution_count": 0,
      "outputs": [
        {
          "output_type": "execute_result",
          "data": {
            "text/plain": [
              "adult               4563\n",
              "men                  350\n",
              "child                 77\n",
              "men's                 33\n",
              "unisex                 6\n",
              "toddler                4\n",
              "infant                 4\n",
              "mens                   4\n",
              "boys'                  3\n",
              "men||women             2\n",
              "women                  2\n",
              "women ,�� unisex       2\n",
              "youth                  2\n",
              "12 up                  1\n",
              "adult ,�� teen         1\n",
              "Name: feat_age group, dtype: int64"
            ]
          },
          "metadata": {
            "tags": []
          },
          "execution_count": 41
        }
      ]
    },
    {
      "cell_type": "code",
      "metadata": {
        "id": "YeKOSYjWJaxw",
        "colab_type": "code",
        "colab": {}
      },
      "source": [
        ""
      ],
      "execution_count": 0,
      "outputs": []
    }
  ]
}